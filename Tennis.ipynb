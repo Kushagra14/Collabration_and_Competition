{
 "cells": [
  {
   "cell_type": "markdown",
   "metadata": {},
   "source": [
    "# Collaboration and Competition\n",
    "\n",
    "---\n",
    "\n",
    "You are welcome to use this coding environment to train your agent for the project.  Follow the instructions below to get started!\n",
    "\n",
    "### 1. Start the Environment\n",
    "\n",
    "Run the next code cell to install a few packages.  This line will take a few minutes to run!"
   ]
  },
  {
   "cell_type": "code",
   "execution_count": 1,
   "metadata": {},
   "outputs": [
    {
     "name": "stdout",
     "output_type": "stream",
     "text": [
      "\u001b[31mtensorflow 1.7.1 has requirement numpy>=1.13.3, but you'll have numpy 1.12.1 which is incompatible.\u001b[0m\r\n",
      "\u001b[31mipython 6.5.0 has requirement prompt-toolkit<2.0.0,>=1.0.15, but you'll have prompt-toolkit 3.0.5 which is incompatible.\u001b[0m\r\n"
     ]
    }
   ],
   "source": [
    "!pip -q install ./python"
   ]
  },
  {
   "cell_type": "markdown",
   "metadata": {},
   "source": [
    "The environment is already saved in the Workspace and can be accessed at the file path provided below. "
   ]
  },
  {
   "cell_type": "code",
   "execution_count": 2,
   "metadata": {},
   "outputs": [
    {
     "name": "stderr",
     "output_type": "stream",
     "text": [
      "INFO:unityagents:\n",
      "'Academy' started successfully!\n",
      "Unity Academy name: Academy\n",
      "        Number of Brains: 1\n",
      "        Number of External Brains : 1\n",
      "        Lesson number : 0\n",
      "        Reset Parameters :\n",
      "\t\t\n",
      "Unity brain name: TennisBrain\n",
      "        Number of Visual Observations (per agent): 0\n",
      "        Vector Observation space type: continuous\n",
      "        Vector Observation space size (per agent): 8\n",
      "        Number of stacked Vector Observation: 3\n",
      "        Vector Action space type: continuous\n",
      "        Vector Action space size (per agent): 2\n",
      "        Vector Action descriptions: , \n"
     ]
    }
   ],
   "source": [
    "from unityagents import UnityEnvironment\n",
    "\n",
    "env = UnityEnvironment(file_name=\"/data/Tennis_Linux_NoVis/Tennis\")"
   ]
  },
  {
   "cell_type": "markdown",
   "metadata": {},
   "source": [
    "Environments contain **_brains_** which are responsible for deciding the actions of their associated agents. Here we check for the first brain available, and set it as the default brain we will be controlling from Python."
   ]
  },
  {
   "cell_type": "code",
   "execution_count": 3,
   "metadata": {},
   "outputs": [],
   "source": [
    "# get the default brain\n",
    "brain_name = env.brain_names[0]\n",
    "brain = env.brains[brain_name]"
   ]
  },
  {
   "cell_type": "markdown",
   "metadata": {},
   "source": [
    "### 2. Examine the State and Action Spaces\n",
    "\n",
    "Run the code cell below to print some information about the environment."
   ]
  },
  {
   "cell_type": "code",
   "execution_count": 4,
   "metadata": {},
   "outputs": [
    {
     "name": "stdout",
     "output_type": "stream",
     "text": [
      "Number of agents: 2\n",
      "Size of each action: 2\n",
      "There are 2 agents. Each observes a state with length: 24\n",
      "The state for the first agent looks like: [ 0.          0.          0.          0.          0.          0.          0.\n",
      "  0.          0.          0.          0.          0.          0.          0.\n",
      "  0.          0.         -6.65278625 -1.5        -0.          0.\n",
      "  6.83172083  6.         -0.          0.        ]\n"
     ]
    }
   ],
   "source": [
    "# reset the environment\n",
    "env_info = env.reset(train_mode=True)[brain_name]\n",
    "\n",
    "# number of agents \n",
    "num_agents = len(env_info.agents)\n",
    "print('Number of agents:', num_agents)\n",
    "\n",
    "# size of each action\n",
    "action_size = brain.vector_action_space_size\n",
    "print('Size of each action:', action_size)\n",
    "\n",
    "# examine the state space \n",
    "states = env_info.vector_observations\n",
    "state_size = states.shape[1]\n",
    "print('There are {} agents. Each observes a state with length: {}'.format(states.shape[0], state_size))\n",
    "print('The state for the first agent looks like:', states[0])"
   ]
  },
  {
   "cell_type": "markdown",
   "metadata": {},
   "source": [
    "### 3. Take Random Actions in the Environment\n",
    "\n",
    "In the next code cell, you will learn how to use the Python API to control the agent and receive feedback from the environment.\n",
    "\n",
    "Note that **in this coding environment, you will not be able to watch the agents while they are training**, and you should set `train_mode=True` to restart the environment."
   ]
  },
  {
   "cell_type": "code",
   "execution_count": 5,
   "metadata": {},
   "outputs": [
    {
     "name": "stdout",
     "output_type": "stream",
     "text": [
      "Total score (averaged over agents) this episode: 0.04500000085681677\n",
      "Total score (averaged over agents) this episode: -0.004999999888241291\n",
      "Total score (averaged over agents) this episode: -0.004999999888241291\n",
      "Total score (averaged over agents) this episode: -0.004999999888241291\n",
      "Total score (averaged over agents) this episode: -0.004999999888241291\n"
     ]
    }
   ],
   "source": [
    "import numpy as np\n",
    "for i in range(5):                                         # play game for 5 episodes\n",
    "    env_info = env.reset(train_mode=False)[brain_name]     # reset the environment    \n",
    "    states = env_info.vector_observations                  # get the current state (for each agent)\n",
    "    scores = np.zeros(num_agents)                          # initialize the score (for each agent)\n",
    "    while True:\n",
    "        actions = np.random.randn(num_agents, action_size) # select an action (for each agent)\n",
    "        actions = np.clip(actions, -1, 1)                  # all actions between -1 and 1\n",
    "        env_info = env.step(actions)[brain_name]           # send all actions to tne environment\n",
    "        next_states = env_info.vector_observations         # get next state (for each agent)\n",
    "        rewards = env_info.rewards                         # get reward (for each agent)\n",
    "        dones = env_info.local_done                        # see if episode finished\n",
    "        scores += env_info.rewards                         # update the score (for each agent)\n",
    "        states = next_states                               # roll over states to next time step\n",
    "        if np.any(dones):                                  # exit loop if episode finished\n",
    "            break\n",
    "    print('Total score (averaged over agents) this episode: {}'.format(np.mean(scores)))"
   ]
  },
  {
   "cell_type": "markdown",
   "metadata": {},
   "source": [
    "### 4. It's Your Turn!\n",
    "\n",
    "Now it's your turn to train your own agent to solve the environment!  A few **important notes**:\n",
    "- When training the environment, set `train_mode=True`, so that the line for resetting the environment looks like the following:\n",
    "```python\n",
    "env_info = env.reset(train_mode=True)[brain_name]\n",
    "```\n",
    "- To structure your work, you're welcome to work directly in this Jupyter notebook, or you might like to start over with a new file!  You can see the list of files in the workspace by clicking on **_Jupyter_** in the top left corner of the notebook.\n",
    "- In this coding environment, you will not be able to watch the agents while they are training.  However, **_after training the agents_**, you can download the saved model weights to watch the agents on your own machine! "
   ]
  },
  {
   "cell_type": "code",
   "execution_count": 6,
   "metadata": {},
   "outputs": [],
   "source": [
    "# Hyperparameters of Multiple Agent Collabration and Competition\n",
    "import torch.cuda\n",
    "\n",
    "LR_ACTOR = 5e-4                 # Learning rate of actor model\n",
    "LR_CRITIC = 5e-3                # Learning rate of critic model\n",
    "TAU = 8e-2                     # Soft Update Parameter\n",
    "GAMMA = 0.99                    # Discount Factor\n",
    "BUFFER_SIZE = int(1e5)          # Replay buffer size\n",
    "BATCH_SIZE = 260                # Batch size for training models\n",
    "RANDOM_SEED = 0                 # Seeding\n",
    "WEIGHT_DECAY = 0.               # Weight decay for Critic Model\n",
    "UPDATE_EVERY = 20               # weight update frequency\n",
    "\n",
    "device = torch.device(\"cuda:0\" if torch.cuda.is_available() else \"cpu\")\n",
    "num_agents = 2\n",
    "action_size = 2\n",
    "state_size = 24"
   ]
  },
  {
   "cell_type": "markdown",
   "metadata": {},
   "source": [
    "### Neural Networks"
   ]
  },
  {
   "cell_type": "code",
   "execution_count": 7,
   "metadata": {},
   "outputs": [],
   "source": [
    "import torch.nn as nn\n",
    "import torch.nn.functional as F\n",
    "\n",
    "def hidden_init(layer):\n",
    "    fan_in = layer.weight.data.size()[0]\n",
    "    lim = 1.0/np.sqrt(fan_in)\n",
    "    return (-lim,lim)\n",
    "\n",
    "\n",
    "class Actor(nn.Module):\n",
    "    \"\"\"Actor Model -  Takes observation and produces actions based on the Observation\"\"\"\n",
    "    \n",
    "    def __init__(self, state_size, action_size,fc1_units = 256, fc2_units = 256):\n",
    "        \"\"\"Init Method for initialization of actor model\n",
    "           =============================================\n",
    "           Params:\n",
    "           state_size: Number of Observation\n",
    "           action_size: Array of actions to be controlled\n",
    "           fc1_units: Number of hidden units in Fc1 Layer\n",
    "           fc2_units: Number of hidden units in Fc2 layer\n",
    "        \"\"\"\n",
    "        super(Actor,self).__init__()\n",
    "        self.seed = torch.manual_seed(RANDOM_SEED)\n",
    "        self.fc1 = nn.Linear(state_size ,fc1_units)\n",
    "        self.fc2 = nn.Linear(fc1_units,fc2_units)\n",
    "        self.fc3 = nn.Linear(fc2_units,action_size)\n",
    "        self.reset_parameters()\n",
    "        \n",
    "    def reset_parameters(self):\n",
    "        \"\"\"Weight Initialization for Actor NN\"\"\"\n",
    "        self.fc1.weight.data.uniform_(*hidden_init(self.fc1))\n",
    "        self.fc2.weight.data.uniform_(*hidden_init(self.fc2))\n",
    "        self.fc3.weight.data.uniform_(-3e-3,3e-3)\n",
    "        \n",
    "    def forward(self,state):\n",
    "        \"\"\"Build an actor (policy) network that maps states -> actions.\"\"\"\n",
    "        a = F.relu(self.fc1(state))\n",
    "        a = F.relu(self.fc2(a))\n",
    "        return F.tanh(self.fc3(a))\n",
    "    \n",
    "\n",
    "class Critic(nn.Module):\n",
    "    \"\"\"Critic Model -  Takes observation and actions produces policies \"\"\"\n",
    "    \n",
    "    def __init__(self, state_size, action_size,fc1_units = 256, fc2_units = 256):\n",
    "        \"\"\"Init Method for initialization of critic model\n",
    "           =============================================\n",
    "           Params:\n",
    "           state_size: Number of Observation\n",
    "           action_size: Array of actions to be controlled\n",
    "           fc1_units: Number of hidden units in Fc1 Layer\n",
    "           fc2_units: Number of hidden units in Fc2 layer\n",
    "        \"\"\"\n",
    "        super(Critic,self).__init__()\n",
    "        self.seed = torch.manual_seed(RANDOM_SEED)\n",
    "        self.fc1 = nn.Linear((state_size + action_size) * num_agents,fc1_units)\n",
    "        self.fc2 = nn.Linear(fc1_units,fc2_units)\n",
    "        self.fc3 = nn.Linear(fc2_units,1)\n",
    "        self.bn = nn.BatchNorm1d(fc1_units)\n",
    "        self.reset_parameters()\n",
    "        \n",
    "    def reset_parameters(self):\n",
    "        \"\"\"Weight Initialization for Critic NN\"\"\"\n",
    "        self.fc1.weight.data.uniform_(*hidden_init(self.fc1))\n",
    "        self.fc2.weight.data.uniform_(*hidden_init(self.fc2))\n",
    "        self.fc3.weight.data.uniform_(-3e-3,3e-3)\n",
    "        \n",
    "    def forward(self,state,action):\n",
    "        \"\"\"Build an critic (policy) network that maps states -> actions.\"\"\"\n",
    "        ca = torch.cat((state,action.float()),dim = 1)\n",
    "        a = F.leaky_relu(self.fc1(ca))\n",
    "        a = self.bn(a)\n",
    "        a = F.leaky_relu(self.fc2(a))\n",
    "        return self.fc3(a)"
   ]
  },
  {
   "cell_type": "markdown",
   "metadata": {},
   "source": [
    "### Ornstein-Uhlenbeck Noise\n",
    "We need to add noise to the actions or in some way it is kind of exploration given to the learning agent"
   ]
  },
  {
   "cell_type": "code",
   "execution_count": 8,
   "metadata": {},
   "outputs": [],
   "source": [
    "import random\n",
    "import copy\n",
    "\n",
    "class OUNoise():\n",
    "    \"\"\"Ornstein-Uhlenbeck process\"\"\"\n",
    "\n",
    "    def __init__(self,size,mu = 0,theta = 0.15, sigma = 0.2):\n",
    "        \"\"\"Initialize parameters and noise process.\"\"\"\n",
    "        self.mu = mu * np.ones(size)\n",
    "        self.theta = theta\n",
    "        self.sigma = sigma\n",
    "        self.seed = random.seed(RANDOM_SEED)\n",
    "        self.reset()\n",
    "        self.size = size\n",
    "        \n",
    "    def reset(self):\n",
    "        \"\"\"Reset the internal state (= noise) to mean (mu).\"\"\"\n",
    "        self.state = copy.copy(self.mu)\n",
    "        \n",
    "    def sample(self):\n",
    "        \"\"\"Update internal state and return it as a noise sample.\"\"\"\n",
    "        x = self.state\n",
    "        dx = self.theta * (self.mu - x) + self.sigma * np.random.standard_normal(self.size)\n",
    "        self.state = x + dx        \n",
    "        return self.state\n"
   ]
  },
  {
   "cell_type": "markdown",
   "metadata": {},
   "source": [
    "## ReplayBuffer\n",
    "One of the characteristic of Q-learning and it helps to have abundant informtion for learning agent"
   ]
  },
  {
   "cell_type": "code",
   "execution_count": 9,
   "metadata": {},
   "outputs": [],
   "source": [
    "from collections import deque\n",
    "from collections import namedtuple\n",
    "import random\n",
    "import numpy as np\n",
    "import torch\n",
    "\n",
    "class ReplayBuffer():\n",
    "    def __init__(self,buffer_size,batch_size):\n",
    "        \"\"\"Initialize a ReplayBuffer object.\n",
    "        Params\n",
    "        ======\n",
    "            buffer_size (int): maximum size of buffer\n",
    "            batch_size (int): size of each training batch\n",
    "        \"\"\"\n",
    "        self.batch_size = batch_size\n",
    "        self.memory = deque(maxlen = buffer_size)\n",
    "        self.batch_size = batch_size\n",
    "        self.experience = namedtuple(\"Experience\",field_names= [\"states\",\"actions\",\"rewards\",\"next_states\",\"dones\"])\n",
    "        \n",
    "    def add(self,state,action,reward,next_state,done):\n",
    "        \"\"\"Add a new experience to memory.\"\"\"\n",
    "        e = self.experience(state,action,reward,next_state,done)\n",
    "        self.memory.append(e)\n",
    "        \n",
    "    def sample(self):\n",
    "        \"\"\"Randomly sample a batch of experiences from memory.\"\"\"\n",
    "        experiences = random.sample(self.memory, k = self.batch_size)\n",
    "        states = [torch.from_numpy(np.vstack([e.states[index] for e in experiences if e is not None])).float().to(device) for index in range(num_agents)]\n",
    "        actions = [torch.from_numpy(np.vstack([e.actions[index] for e in experiences if e is not None])).float().to(device) for index in range(num_agents)]\n",
    "        rewards = [torch.from_numpy(np.vstack([e.rewards[index] for e in experiences if e is not None])).float().to(device) for index in range(num_agents)]\n",
    "        next_states = [torch.from_numpy(np.vstack([e.next_states[index] for e in experiences if e is not None])).float().to(device) for index in range(num_agents)]\n",
    "        dones = [torch.from_numpy(np.vstack([e.dones[index] for e in experiences if e is not None]).astype(np.uint8)).float().to(device) for index in range(num_agents)]\n",
    "        return (states,actions,rewards,next_states,dones)\n",
    "    \n",
    "    def __len__(self):\n",
    "        \"\"\"Return the current size of internal memory.\"\"\"\n",
    "        return len(self.memory)"
   ]
  },
  {
   "cell_type": "markdown",
   "metadata": {},
   "source": [
    "### DDPG Agent"
   ]
  },
  {
   "cell_type": "code",
   "execution_count": 10,
   "metadata": {},
   "outputs": [],
   "source": [
    "import torch.optim as optim\n",
    "\n",
    "class DDPG_Agent():\n",
    "    \n",
    "    def __init__(self,state_size,action_size,index):\n",
    "        \"\"\"Initialize a DDPGAgent object.\n",
    "        Params\n",
    "        ======\n",
    "            state_size (int): dimension of each state\n",
    "            action_size (int): dimension of each action\n",
    "            agent_id (int): identifier for this agent\n",
    "        \"\"\"\n",
    "        self.action_size = action_size\n",
    "        self.state_size = state_size\n",
    "        self.index = index\n",
    "        \n",
    "        self.actor_local = Actor(state_size,action_size).to(device)\n",
    "        self.actor_target = Actor(state_size,action_size).to(device)\n",
    "        self.actor_optimizer = optim.Adam(self.actor_local.parameters(),lr = LR_ACTOR)\n",
    "        self.critic_local = Critic(state_size,action_size).to(device)\n",
    "        self.critic_target = Critic(state_size,action_size).to(device)\n",
    "        self.critic_optimizer = optim.Adam(self.critic_local.parameters(),lr = LR_CRITIC, weight_decay=WEIGHT_DECAY)\n",
    "        \n",
    "        self.hard_update(self.actor_target, self.actor_local)\n",
    "        self.hard_update(self.critic_target,self.critic_local)\n",
    "        \n",
    "        self.noise = OUNoise(action_size)\n",
    "        self.timesteps = 0\n",
    "        \n",
    "    def hard_update(self,target,source):\n",
    "        \"\"\"Hard update model parameters.\n",
    "        θ_target = θ_local\n",
    "        Params\n",
    "        ======\n",
    "            local_model: PyTorch model (weights will be copied from)\n",
    "            target_model: PyTorch model (weights will be copied to)\n",
    "        \"\"\"\n",
    "        for target_params,source_params in zip(target.parameters(),source.parameters()):\n",
    "            target_params.data.copy_(source_params.data)\n",
    "        \n",
    "       \n",
    "    def act(self,state,add_noise = True):\n",
    "        \"\"\"Returns actions for given state as per current policy.\"\"\"\n",
    "        state = torch.from_numpy(state).float().to(device)\n",
    "        self.actor_local.eval()\n",
    "        with torch.no_grad():\n",
    "            action = self.actor_local(state).cpu().data.numpy()\n",
    "        self.actor_local.train()\n",
    "        if add_noise:\n",
    "            action += self.noise.sample()\n",
    "        return np.clip(action,-1,1)\n",
    "    \n",
    "    def reset(self):\n",
    "        \"\"\"Resets the OU Noise for this agent.\"\"\"\n",
    "        self.noise.reset() \n",
    "    \n",
    "    def learn(self,experiences):\n",
    "        \"\"\"Update policy and value parameters using given batch of experience tuples.\n",
    "        Q_targets = r + γ * critic_target(next_state, actor_target(next_state))\n",
    "        where:\n",
    "            actor_target(next_state) -> action\n",
    "            critic_target(next_state, next_action) -> Q-value\n",
    "        Params\n",
    "        ======\n",
    "            experiences (Tuple[torch.Tensor]): tuple of (s, a, r, s', done) tuples \n",
    "            next_actions (list): next actions computed from each agent\n",
    "            actions_pred (list): prediction for actions for current states from each agent\n",
    "        \"\"\"\n",
    "        states,actions,rewards,next_states,dones = experiences\n",
    "        whole_states = torch.cat(states, dim=1).to(device)\n",
    "        whole_next_states = torch.cat(next_states, dim=1).to(device)\n",
    "        whole_actions = torch.cat(actions, dim=1).to(device)\n",
    "        \n",
    "        #Next Action Prediction using Target Actor Model\n",
    "        next_actions = [actions[index].clone() for index in range(num_agents)]\n",
    "        next_actions[self.index] = self.actor_target(next_states[self.index])\n",
    "        whole_next_actions = torch.cat(next_actions, dim=1).to(device)\n",
    "        \n",
    "        ###CRITIC TRAINING\n",
    "        Q_target_next = self.critic_target(whole_next_states,whole_next_actions)\n",
    "        Q_target = rewards[self.index] + GAMMA * Q_target_next *(1-dones[self.index])\n",
    "        Q_exp = self.critic_local(whole_states,whole_actions)\n",
    "        critic_loss = F.mse_loss(Q_exp,Q_target)\n",
    "        self.critic_optimizer.zero_grad()\n",
    "        critic_loss.backward()\n",
    "        torch.nn.utils.clip_grad_norm_(self.critic_local.parameters(), 1)\n",
    "        self.critic_optimizer.step()\n",
    "        \n",
    "        #Action Prediction using Local Actor Model \n",
    "        actions_pred = [actions[index].clone() for index in range(num_agents)]\n",
    "        actions_pred[self.index] = self.actor_local(states[self.index])\n",
    "        whole_actions_pred = torch.cat(actions_pred, dim=1).to(device)\n",
    "        \n",
    "        ### ACTOR TRAINING\n",
    "        self.actor_optimizer.zero_grad()\n",
    "        actor_loss = -self.critic_local(whole_states, whole_actions_pred).mean()\n",
    "        actor_loss.backward()\n",
    "        self.actor_optimizer.step()\n",
    "\n",
    "        ### Update target networks\n",
    "        if self.timesteps % 4 == 0:\n",
    "            self.soft_update(self.critic_local, self.critic_target, TAU)\n",
    "            self.soft_update(self.actor_local, self.actor_target, TAU)\n",
    "        \n",
    "        \n",
    "    def soft_update(self,local,target,tau):\n",
    "        \"\"\"Soft update model parameters.\n",
    "        θ_target = τ * θ_local + (1 - τ) * θ_target\n",
    "        Params\n",
    "        ======\n",
    "            local_model: PyTorch model (weights will be copied from)\n",
    "            target_model: PyTorch model (weights will be copied to)\n",
    "            tau (float): interpolation parameter \n",
    "        \"\"\"\n",
    "        for target_params,local_params in zip(target.parameters(),local.parameters()):\n",
    "            target_params.data.copy_(tau * local_params.data + (1.0 - tau) * target_params.data)"
   ]
  },
  {
   "cell_type": "markdown",
   "metadata": {},
   "source": [
    "### MADDPG"
   ]
  },
  {
   "cell_type": "code",
   "execution_count": 11,
   "metadata": {},
   "outputs": [],
   "source": [
    "class MADDPG():\n",
    "    \"\"\"Wrapper class managing different agents in the environment.\"\"\"\n",
    "    \n",
    "    def __init__(self, num_agents, state_size, action_size):\n",
    "        \"\"\"Initialize a MADDPGAgent wrapper.\n",
    "        Params\n",
    "        ======\n",
    "            num_agents (int): the number of agents in the environment\n",
    "            state_size (int): dimension of each state\n",
    "            action_size (int): dimension of each action\n",
    "        \"\"\"\n",
    "        self.num_agents = num_agents\n",
    "        self.state_size = state_size\n",
    "        self.action_size = action_size\n",
    "        self.memory = ReplayBuffer(BUFFER_SIZE, BATCH_SIZE)\n",
    "        self.agents = [DDPG_Agent(state_size,action_size,x)  for x in range(num_agents)]\n",
    "        \n",
    "        \n",
    "    def reset(self):\n",
    "        \"\"\"Resets OU Noise for each agent.\"\"\"\n",
    "        for agent in self.agents:\n",
    "            agent.reset()\n",
    "    \n",
    "    def act(self,state,add_noise = True):\n",
    "        \"\"\"Picks an action for each agent given their individual observations \n",
    "        and the current policy.\"\"\"\n",
    "        action = np.zeros([self.num_agents, self.action_size])\n",
    "        for index,agent in enumerate(self.agents):\n",
    "            action[index,:] = agent.act(state[index],add_noise = add_noise)\n",
    "        return action\n",
    "    \n",
    "    def step(self,states,actions,rewards,next_states,dones):\n",
    "        \"\"\"Save experience in replay memory, and use random sample from buffer to learn.\"\"\"\n",
    "        self.memory.add(states,actions,rewards,next_states,dones)\n",
    "        \n",
    "        # Learn, if enough samples are available in memory\n",
    "        if len(self.memory) > BATCH_SIZE:\n",
    "            experiences = self.memory.sample()\n",
    "            for index,agent in enumerate(self.agents):\n",
    "                agent.learn(experiences)\n",
    "        \n",
    "    def save(self):\n",
    "        \"\"\"Save Weights of every agent\"\"\"\n",
    "        for index,agent in enumerate(self.agents):\n",
    "            torch.save(agent.actor_local.state_dict(), 'checkpoint_actor_'+str(index)+ '.pth')\n",
    "            torch.save(agent.critic_local.state_dict(),'checkpoint_critic_'+str(index)+ '.pth')\n",
    "            torch.save(agent.actor_target.state_dict(), 'checkpoint_actor_target_'+str(index)+ '.pth')\n",
    "            torch.save(agent.critic_target.state_dict(),'checkpoint_critic_target_'+str(index)+ '.pth')"
   ]
  },
  {
   "cell_type": "code",
   "execution_count": 12,
   "metadata": {},
   "outputs": [],
   "source": [
    "def trainer(maddpg,env,n_episodes=4000,print_every = 100):\n",
    "    \"\"\"main function to run training model\"\"\"\n",
    "    scores_deque = deque(maxlen=print_every)\n",
    "    scores_list = []\n",
    "    for i_episode in range(1,n_episodes+1):                    \n",
    "        env_info = env.reset(train_mode=True)[brain_name]      # reset the environment    \n",
    "        states = env_info.vector_observations                  # get the current state (for each agent)\n",
    "        maddpg.reset()\n",
    "        scores = np.zeros(num_agents)                          # initialize the score (for each agent)\n",
    "        while True:\n",
    "            actions = maddpg.act(states)\n",
    "            env_info = env.step(actions)[brain_name]           # send all actions to tne environment\n",
    "            next_states = env_info.vector_observations         # get next state (for each agent)\n",
    "            rewards = env_info.rewards                         # get reward (for each agent)\n",
    "            dones = env_info.local_done                        # see if episode finished                                \n",
    "            maddpg.step(states,actions,rewards,next_states,dones)\n",
    "            scores += rewards \n",
    "            states = next_states                               # roll over states to next time step\n",
    "            if np.any(dones):                                  # exit loop if episode finished\n",
    "                break\n",
    "        max_scores = np.max(scores)       \n",
    "        scores_deque.append(max_scores)\n",
    "        scores_list.append(max_scores)\n",
    "        average_score = np.mean(scores_deque)\n",
    "        print('\\rEpisode {}\\tAverage Score: {:.4f}'.format(i_episode, average_score), end=\"\")\n",
    "        if(average_score >=  0.5):\n",
    "            maddpg.save()\n",
    "            break\n",
    "        if i_episode % print_every == 0:\n",
    "            print('\\rEpisode {}\\tAverage Score: {:.4f}'.format(i_episode, average_score))\n",
    "    \n",
    "    return scores_list"
   ]
  },
  {
   "cell_type": "code",
   "execution_count": 13,
   "metadata": {},
   "outputs": [
    {
     "name": "stdout",
     "output_type": "stream",
     "text": [
      "Episode 100\tAverage Score: 0.0101\n",
      "Episode 200\tAverage Score: 0.0317\n",
      "Episode 300\tAverage Score: 0.0463\n",
      "Episode 400\tAverage Score: 0.0392\n",
      "Episode 500\tAverage Score: 0.0531\n",
      "Episode 600\tAverage Score: 0.0632\n",
      "Episode 700\tAverage Score: 0.0687\n",
      "Episode 800\tAverage Score: 0.0769\n",
      "Episode 900\tAverage Score: 0.0699\n",
      "Episode 1000\tAverage Score: 0.0927\n",
      "Episode 1100\tAverage Score: 0.1512\n",
      "Episode 1200\tAverage Score: 0.2208\n",
      "Episode 1300\tAverage Score: 0.4159\n",
      "Episode 1400\tAverage Score: 0.4619\n",
      "Episode 1434\tAverage Score: 0.5001"
     ]
    }
   ],
   "source": [
    "multi_agent = MADDPG( num_agents, state_size, action_size)\n",
    "scores = trainer(multi_agent,env)"
   ]
  },
  {
   "cell_type": "markdown",
   "metadata": {},
   "source": [
    "### Plot of episodes vs score"
   ]
  },
  {
   "cell_type": "code",
   "execution_count": 16,
   "metadata": {},
   "outputs": [
    {
     "data": {
      "image/png": "[encoded data removed]",
      "text/plain": [
       "<matplotlib.figure.Figure at 0x7f2c92f1ab00>"
      ]
     },
     "metadata": {
      "needs_background": "light"
     },
     "output_type": "display_data"
    }
   ],
   "source": [
    "import matplotlib.pyplot as plt\n",
    "\n",
    "fig = plt.figure()\n",
    "ax = fig.add_subplot(111)\n",
    "plt.plot(np.arange(1, len(scores)+1), scores)\n",
    "plt.ylabel('Score')\n",
    "plt.xlabel('Episode #')\n",
    "plt.show()"
   ]
  },
  {
   "cell_type": "markdown",
   "metadata": {},
   "source": [
    "When finished, you can close the environment."
   ]
  },
  {
   "cell_type": "code",
   "execution_count": 15,
   "metadata": {},
   "outputs": [],
   "source": [
    "env.close()"
   ]
  },
  {
   "cell_type": "markdown",
   "metadata": {},
   "source": [
    "### Further Training\n",
    "The stability of the algorithm is still questionable - using something like PPO, [A3C](https://arxiv.org/pdf/1602.01783.pdf) instead may stabilize training.Additionally, since so many training epochs feature zero reward, implementing [Prioritized Experience Replay](https://arxiv.org/pdf/1511.05952.pdf) may speed up training by prioritizing epochs with nonzero reward."
   ]
  }
 ],
 "metadata": {
  "kernelspec": {
   "display_name": "Python 3",
   "language": "python",
   "name": "python3"
  },
  "language_info": {
   "codemirror_mode": {
    "name": "ipython",
    "version": 3
   },
   "file_extension": ".py",
   "mimetype": "text/x-python",
   "name": "python",
   "nbconvert_exporter": "python",
   "pygments_lexer": "ipython3",
   "version": "3.6.3"
  }
 },
 "nbformat": 4,
 "nbformat_minor": 2
}
